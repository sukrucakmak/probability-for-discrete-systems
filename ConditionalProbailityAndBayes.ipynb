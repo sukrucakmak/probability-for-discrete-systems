{
  "nbformat": 4,
  "nbformat_minor": 0,
  "metadata": {
    "colab": {
      "name": "ConditionalProbailityAndBayes.ipynb",
      "provenance": [],
      "authorship_tag": "ABX9TyML6iCN+oQl9PrSUSULNDen",
      "include_colab_link": true
    },
    "kernelspec": {
      "name": "python3",
      "display_name": "Python 3"
    },
    "language_info": {
      "name": "python"
    }
  },
  "cells": [
    {
      "cell_type": "markdown",
      "metadata": {
        "id": "view-in-github",
        "colab_type": "text"
      },
      "source": [
        "<a href=\"https://colab.research.google.com/github/sukrucakmak/probability-for-discrete-systems/blob/main/ConditionalProbailityAndBayes.ipynb\" target=\"_parent\"><img src=\"https://colab.research.google.com/assets/colab-badge.svg\" alt=\"Open In Colab\"/></a>"
      ]
    },
    {
      "cell_type": "markdown",
      "source": [
        "## Conditional Probability Sample"
      ],
      "metadata": {
        "id": "PHN2EZR2S1St"
      }
    },
    {
      "cell_type": "markdown",
      "source": [
        "Question: Knowing that when a dice is rolled, the number that comes up is less than 4, what is the probability that the number on the top of the dice is an odd number?"
      ],
      "metadata": {
        "id": "K5dJ4_mjS6XV"
      }
    },
    {
      "cell_type": "markdown",
      "source": [
        "Answer:\n",
        "\n",
        "* Space, S = {1,2,3,4,5,6}\n",
        "* Less than 4, A = {1,2,3}\n",
        "* Odd numbers, B = {1,3}\n",
        "* A∩B = {1,3}\n",
        "* P(B\\A) = P(A∩B) / P(A)\n",
        "* P(B\\A) = 2/3"
      ],
      "metadata": {
        "id": "In7a3Sk0TOMN"
      }
    },
    {
      "cell_type": "code",
      "source": [
        "def cprob(intersection, condition):\n",
        " p = intersection/condition\n",
        " return p\n",
        "\n",
        "S = {1,2,3,4,5,6}\n",
        "A = {1,2,3}\n",
        "B = {1,3}\n",
        "AnB = {1,3}\n",
        "\n",
        "intersection = len(AnB)\n",
        "condition = len(A)\n",
        "\n",
        "print(\"P(B\\A) = \", cprob(intersection,condition))"
      ],
      "metadata": {
        "colab": {
          "base_uri": "https://localhost:8080/"
        },
        "id": "jYcKYV0tUMEP",
        "outputId": "0c6dd4bf-8a3d-4ba3-9844-814f373b0448"
      },
      "execution_count": 1,
      "outputs": [
        {
          "output_type": "stream",
          "name": "stdout",
          "text": [
            "P(B\\A) =  0.6666666666666666\n"
          ]
        }
      ]
    }
  ]
}