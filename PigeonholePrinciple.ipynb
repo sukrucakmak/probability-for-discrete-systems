{
  "nbformat": 4,
  "nbformat_minor": 0,
  "metadata": {
    "colab": {
      "name": "PigeonholePrinciple.ipynb",
      "provenance": [],
      "authorship_tag": "ABX9TyP8fHlaBpGMOemXRIm3CQ+O",
      "include_colab_link": true
    },
    "kernelspec": {
      "name": "python3",
      "display_name": "Python 3"
    },
    "language_info": {
      "name": "python"
    }
  },
  "cells": [
    {
      "cell_type": "markdown",
      "metadata": {
        "id": "view-in-github",
        "colab_type": "text"
      },
      "source": [
        "<a href=\"https://colab.research.google.com/github/sukrucakmak/probability-for-discrete-systems/blob/main/PigeonholePrinciple.ipynb\" target=\"_parent\"><img src=\"https://colab.research.google.com/assets/colab-badge.svg\" alt=\"Open In Colab\"/></a>"
      ]
    },
    {
      "cell_type": "markdown",
      "source": [
        "# Pigeonhole Principle\n",
        "\n",
        "In mathematics, the pigeonhole principle states that if `n` items are put into `m` containers, with `n>m`, then at least one container must contain more than one item.\n",
        "\n",
        "### Demonstration\n",
        "![PigeonHole](https://lh4.googleusercontent.com/0D4mFpjic6JGeu87LPsQH7ev98FK5sgc54Ag8ZqTbD06og8qIN3-bvjFOzUZvde87guULcHDW_PnYGRy2Gxt=w3584-h1886-rw)\n",
        "\n",
        "\n",
        "\n",
        "\n"
      ],
      "metadata": {
        "id": "ybdrN2RaTsFb"
      }
    },
    {
      "cell_type": "markdown",
      "source": [
        "### Question\n",
        "\n",
        "A race in which 5 people compete is held every day in January, March, April and May every year. According to this, **prove that the same result was seen in at least 2 races.**\n",
        "\n",
        "### Answer\n",
        "\n"
      ],
      "metadata": {
        "id": "tN4q96Vak-3w"
      }
    },
    {
      "cell_type": "code",
      "source": [
        "import math\n",
        "\n",
        "arrangementCount = math.factorial(5)\n",
        "\n",
        "dayOfJanuary = 31\n",
        "dayOfMarch = 31\n",
        "dayOfApril = 30\n",
        "dayOfMay = 31\n",
        "\n",
        "sumOfDays = dayOfJanuary + dayOfMarch + dayOfApril + dayOfMay\n",
        "\n",
        "pigeons = sumOfDays\n",
        "holes = arrangementCount\n",
        "\n",
        "print(\"Pigeons: \", pigeons)\n",
        "print(\"Holes: \", holes)\n",
        "print(\"\\n\")\n",
        "\n",
        "if pigeons > holes :\n",
        "  print(\"Number of items are bigger than number of containers , so at least one container contains more than one item. It is proven.\")\n",
        "else :\n",
        "  print(\"It could not be proven, because of number of items are bigger than containers.\")  \n",
        "\n"
      ],
      "metadata": {
        "colab": {
          "base_uri": "https://localhost:8080/"
        },
        "id": "-sKEsVFylYEt",
        "outputId": "1c212ba9-cfd1-472d-ae01-4093f5054846"
      },
      "execution_count": 16,
      "outputs": [
        {
          "output_type": "stream",
          "name": "stdout",
          "text": [
            "Pigeons:  123\n",
            "Holes:  120\n",
            "\n",
            "\n",
            "Number of items are bigger than number of containers , so at least one container contains more than one item. It is proven.\n"
          ]
        }
      ]
    }
  ]
}