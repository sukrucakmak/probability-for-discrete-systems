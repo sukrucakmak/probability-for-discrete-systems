{
  "nbformat": 4,
  "nbformat_minor": 0,
  "metadata": {
    "colab": {
      "name": "Probability.ipynb",
      "provenance": [],
      "authorship_tag": "ABX9TyO+vnvB1KWIP23xO0ehReuU",
      "include_colab_link": true
    },
    "kernelspec": {
      "name": "python3",
      "display_name": "Python 3"
    },
    "language_info": {
      "name": "python"
    }
  },
  "cells": [
    {
      "cell_type": "markdown",
      "metadata": {
        "id": "view-in-github",
        "colab_type": "text"
      },
      "source": [
        "<a href=\"https://colab.research.google.com/github/sukrucakmak/probability-for-discrete-systems/blob/main/Probability.ipynb\" target=\"_parent\"><img src=\"https://colab.research.google.com/assets/colab-badge.svg\" alt=\"Open In Colab\"/></a>"
      ]
    },
    {
      "cell_type": "markdown",
      "source": [
        "#Probability Example"
      ],
      "metadata": {
        "id": "Cf9xoT67GoFw"
      }
    },
    {
      "cell_type": "markdown",
      "source": [
        "**Experiment:** An occurrence with an uncertain outcome that we can observe.\n",
        "*For example, rolling a die.*\n",
        "\n",
        "**Outcome:** The result of an experiment; one particular state of the world. What Laplace calls a \"case.\"\n",
        "*For example: 4.*\n",
        "\n",
        "**Sample Space:** The set of all possible outcomes for the experiment.\n",
        "For example, `{1, 2, 3, 4, 5, 6}`.\n",
        "\n",
        "**Event:** A subset of possible outcomes that together have some property we are interested in.\n",
        "For example, the event \"even die roll\" is the set of outcomes `{2, 4, 6}`.\n",
        "\n",
        "**Probability:** As Laplace said, the probability of an event with respect to a sample space is the number of favorable cases (outcomes from the sample space that are in the event) divided by the total number of cases in the sample space. (This assumes that all outcomes in the sample space are equally likely.) Since it is a ratio, probability will always be a number between 0 (representing an impossible event) and 1 (representing a certain event).\n",
        "For example, the probability of an even die roll is 3/6 = 1/2."
      ],
      "metadata": {
        "id": "xFB8tymOK2do"
      }
    },
    {
      "cell_type": "markdown",
      "source": [
        "## Code for P\n",
        "\n"
      ],
      "metadata": {
        "id": "qCGz3I96KaNn"
      }
    },
    {
      "cell_type": "code",
      "source": [
        "from fractions import Fraction\n",
        "\n",
        "def P(event, space): \n",
        "    \"\"\"The probability of an event, given a sample space of equiprobable outcomes.\n",
        "    event can be either a set of outcomes, or a predicate (true for outcomes in the event).\"\"\"\n",
        "    if is_predicate(event):\n",
        "        event = such_that(event, space)\n",
        "    return Fraction(len(event & space), len(space))\n",
        "\n",
        "is_predicate = callable\n",
        "\n",
        "def such_that(predicate, collection): \n",
        "    \"The subset of elements in the collection for which the predicate is true.\"\n",
        "    return {e for e in collection if predicate(e)}"
      ],
      "metadata": {
        "id": "fNqBZY07Kqsa"
      },
      "execution_count": 2,
      "outputs": []
    },
    {
      "cell_type": "markdown",
      "source": [
        "##Card Problems\n",
        "\n",
        "Consider dealing a hand of five playing cards. We can define deck as a set of 52 cards, and Hands as the sample space of all combinations of 5 cards:"
      ],
      "metadata": {
        "id": "5baGxz30Gy07"
      }
    },
    {
      "cell_type": "code",
      "source": [
        "def cross(A, B):\n",
        "    \"The set of ways of concatenating one item from collection A with one from B.\"\n",
        "    return {a + b \n",
        "            for a in A for b in B}"
      ],
      "metadata": {
        "id": "h3WtMG-zJsuc"
      },
      "execution_count": 3,
      "outputs": []
    },
    {
      "cell_type": "code",
      "execution_count": 4,
      "metadata": {
        "colab": {
          "base_uri": "https://localhost:8080/"
        },
        "id": "yfF1nd_HGX8Y",
        "outputId": "727c3f2d-c74d-44a6-cfc4-7ecc9f9287ad"
      },
      "outputs": [
        {
          "output_type": "execute_result",
          "data": {
            "text/plain": [
              "52"
            ]
          },
          "metadata": {},
          "execution_count": 4
        }
      ],
      "source": [
        "suits = 'SHDC'\n",
        "ranks = 'A23456789TJQK'\n",
        "deck  = cross(ranks, suits)\n",
        "len(deck)"
      ]
    },
    {
      "cell_type": "code",
      "source": [
        "import itertools\n",
        "import random\n",
        "\n",
        "def combos(items, n):\n",
        "    \"All combinations of n items; each combo as a concatenated str.\"\n",
        "    return {' '.join(combo) \n",
        "            for combo in itertools.combinations(items, n)}"
      ],
      "metadata": {
        "id": "ADurkUWzJmjb"
      },
      "execution_count": 5,
      "outputs": []
    },
    {
      "cell_type": "code",
      "source": [
        "from math import factorial\n",
        "\n",
        "def choose(n, c):\n",
        "    \"Number of ways to choose c items from a list of n items.\"\n",
        "    return factorial(n) // (factorial(n - c) * factorial(c))"
      ],
      "metadata": {
        "id": "He7PiEhLJ-xA"
      },
      "execution_count": 6,
      "outputs": []
    },
    {
      "cell_type": "code",
      "source": [
        "Hands = combos(deck, 5)\n",
        "\n",
        "assert len(Hands) == choose(52, 5)\n",
        "\n",
        "random.sample(Hands, 6)"
      ],
      "metadata": {
        "colab": {
          "base_uri": "https://localhost:8080/"
        },
        "id": "DjbyK0MHILHt",
        "outputId": "7da3656b-b711-4dbb-961e-d592af9d48aa"
      },
      "execution_count": 7,
      "outputs": [
        {
          "output_type": "execute_result",
          "data": {
            "text/plain": [
              "['JS 8D 4H 8H 6H',\n",
              " 'JH JS QH 8H 5D',\n",
              " '2H QC 8S 6H TD',\n",
              " 'TH 9C 8D 9D 6C',\n",
              " 'QC 9C 6C 6S 3C',\n",
              " '8D 6C 8H 5D TD']"
            ]
          },
          "metadata": {},
          "execution_count": 7
        }
      ]
    },
    {
      "cell_type": "markdown",
      "source": [
        "Now we can answer questions like the probability of being dealt a flush (5 cards of the same suit):"
      ],
      "metadata": {
        "id": "IP_iCtQVKLKt"
      }
    },
    {
      "cell_type": "code",
      "source": [
        "len(Hands)"
      ],
      "metadata": {
        "colab": {
          "base_uri": "https://localhost:8080/"
        },
        "id": "ysqEudqhNI_P",
        "outputId": "3c448bab-86a4-48cd-a38b-7bc1010e2de4"
      },
      "execution_count": 8,
      "outputs": [
        {
          "output_type": "execute_result",
          "data": {
            "text/plain": [
              "2598960"
            ]
          },
          "metadata": {},
          "execution_count": 8
        }
      ]
    },
    {
      "cell_type": "code",
      "source": [
        "def flush(hand):\n",
        "    return any(hand.count(suit) == 5 for suit in suits)\n",
        "\n",
        "P(flush, Hands)"
      ],
      "metadata": {
        "colab": {
          "base_uri": "https://localhost:8080/"
        },
        "id": "apThzIodKOla",
        "outputId": "781aae26-44b6-48f7-c32c-b368c58cbb2d"
      },
      "execution_count": 9,
      "outputs": [
        {
          "output_type": "execute_result",
          "data": {
            "text/plain": [
              "Fraction(33, 16660)"
            ]
          },
          "metadata": {},
          "execution_count": 9
        }
      ]
    },
    {
      "cell_type": "markdown",
      "source": [
        "Or the probability of four of a kind:"
      ],
      "metadata": {
        "id": "v82gzexlMEXk"
      }
    },
    {
      "cell_type": "code",
      "source": [
        "def four_kind(hand):\n",
        "    return any(hand.count(rank) == 4 for rank in ranks)\n",
        "\n",
        "P(four_kind, Hands)"
      ],
      "metadata": {
        "colab": {
          "base_uri": "https://localhost:8080/"
        },
        "id": "riO53V0AMFQZ",
        "outputId": "866ec265-5245-4147-d259-a33c33407f25"
      },
      "execution_count": 10,
      "outputs": [
        {
          "output_type": "execute_result",
          "data": {
            "text/plain": [
              "Fraction(1, 4165)"
            ]
          },
          "metadata": {},
          "execution_count": 10
        }
      ]
    }
  ]
}